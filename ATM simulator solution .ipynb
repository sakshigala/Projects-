{
 "cells": [
  {
   "cell_type": "markdown",
   "id": "8a367c1e",
   "metadata": {},
   "source": [
    "# ATM Simulator Project"
   ]
  },
  {
   "cell_type": "markdown",
   "id": "459fec18",
   "metadata": {},
   "source": [
    "# Objective:\n",
    "The objective of the project is to build an application which is exactly working as an ATM machine. You need to include the basic functionalities such as Check Balance, Withdraw, Deposit and Exit of an ATM machine.\n",
    "The input for the application from the user is to enter the PIN and then ask the user to select an appropriate option and perform it accordingly"
   ]
  },
  {
   "cell_type": "code",
   "execution_count": null,
   "id": "b5d98ce7",
   "metadata": {},
   "outputs": [],
   "source": [
    "def atm_simulation():\n",
    "    \n",
    "    balance=10000\n",
    "    print('''\n",
    "            ***** Welcome To ATM Machine Simulator *****\n",
    "         ''')\n",
    "    \n",
    "    pin=int(input('Enter Your Pin: '))\n",
    "    print('''\n",
    "            Options you can Excercise are:\n",
    "            1) Balance\n",
    "            2) Withdraw\n",
    "            3) Deposite\n",
    "            4) Exit\n",
    "         ''')\n",
    "    choose=int(input('Select Your Transaction from the above options: '))\n",
    "    if choose==1:\n",
    "        print(f'Available A/C Balance Is {balance}')\n",
    "    elif choose==2:\n",
    "        withdraw=int(input('Enter Amount: '))\n",
    "        if withdraw<=balance:\n",
    "            balance-=withdraw\n",
    "            print(f'Your availabe balance is {balance}')\n",
    "        else:\n",
    "            print('Insufficient Balance')\n",
    "    elif choose==3:\n",
    "        amount=int(input('Enter Amount: '))\n",
    "        balance+=amount\n",
    "        print(f'New Balance is {balance}')\n",
    "    elif choose==4:\n",
    "        exit()\n",
    "    else:\n",
    "        print('No Selected Transaction')\n",
    "    \n",
    "    return\n",
    "        \n",
    "\n",
    "        \n",
    "if __name__ == \"__main__\":\n",
    "    \n",
    "    atm_simulation()\n",
    "    "
   ]
  },
  {
   "cell_type": "code",
   "execution_count": null,
   "id": "acf1d362",
   "metadata": {},
   "outputs": [],
   "source": []
  },
  {
   "cell_type": "code",
   "execution_count": null,
   "id": "db381814",
   "metadata": {},
   "outputs": [],
   "source": []
  }
 ],
 "metadata": {
  "kernelspec": {
   "display_name": "Python 3 (ipykernel)",
   "language": "python",
   "name": "python3"
  },
  "language_info": {
   "codemirror_mode": {
    "name": "ipython",
    "version": 3
   },
   "file_extension": ".py",
   "mimetype": "text/x-python",
   "name": "python",
   "nbconvert_exporter": "python",
   "pygments_lexer": "ipython3",
   "version": "3.11.4"
  }
 },
 "nbformat": 4,
 "nbformat_minor": 5
}
